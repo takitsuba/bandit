{
 "cells": [
  {
   "cell_type": "code",
   "execution_count": 1,
   "metadata": {},
   "outputs": [
    {
     "data": {
      "text/html": [
       "<style>.container { width:100% !important; }</style>"
      ],
      "text/plain": [
       "<IPython.core.display.HTML object>"
      ]
     },
     "metadata": {},
     "output_type": "display_data"
    }
   ],
   "source": [
    "from IPython.core.display import display, HTML\n",
    "display(HTML(\"<style>.container { width:100% !important; }</style>\"))"
   ]
  },
  {
   "cell_type": "code",
   "execution_count": 2,
   "metadata": {},
   "outputs": [],
   "source": [
    "import numpy as np"
   ]
  },
  {
   "cell_type": "code",
   "execution_count": 67,
   "metadata": {},
   "outputs": [],
   "source": [
    "class Games:\n",
    "    \n",
    "    player_class = None\n",
    "    slot_class = None\n",
    "    arms = 0\n",
    "    times = 0\n",
    "    game_count = 0\n",
    "    expected_rewards_arms = None\n",
    "    expected_earned_rewards = None\n",
    "\n",
    "    def __init__(self, player_class, slot_class, arms, times, game_count):\n",
    "        self.player_class = player_class\n",
    "        self.slot_class = slot_class\n",
    "        self.arms = arms\n",
    "        self.times = times\n",
    "        self.game_count = game_count\n",
    "        self.expected_rewards = np.empty(0, float)\n",
    "        self.expected_rewards_arms = np.empty((0, arms), float)\n",
    "        \n",
    "    def execute(self):\n",
    "        for _ in range(self.game_count):\n",
    "            game = Game(self.player_class, self.slot_class, self.arms, self.times)\n",
    "            game.play()\n",
    "            \n",
    "            expected_reward_arms = game.player.cal_expected_reward_arms()\n",
    "            self.expected_rewards_arms = np.vstack((self.expected_rewards_arms, expected_reward_arms))\n",
    "            \n",
    "            expected_reward = game.player.cal_expected_reward()\n",
    "            self.expected_rewards = np.append(self.expected_rewards, expected_reward)\n",
    "            \n",
    "            \n",
    "    def pseudo_regret(self):\n",
    "        return self.max_arm_expected_rewards_mean() - self.expected_rewards_mean()\n",
    "        \n",
    "    def max_arm_expected_rewards_mean(self):\n",
    "        return self.expected_rewards_arms.mean(axis=0).max()\n",
    "    \n",
    "    def expected_rewards_mean(self):\n",
    "        return self.expected_rewards.mean()\n",
    "\n",
    "class Game:\n",
    "    player = None\n",
    "    slot = None\n",
    "    arms = 0\n",
    "    times = 0\n",
    "    \n",
    "    def __init__(self, player_class, slot_class, arms, times):\n",
    "        self.player = player_class(arms)\n",
    "        self.slot = slot_class(arms)\n",
    "        self.arms = arms\n",
    "        self.times = times\n",
    "        \n",
    "    def play(self):\n",
    "        for _ in range(self.times):\n",
    "            self.turn()\n",
    "    \n",
    "    def turn(self):\n",
    "        self.player.update_probs()\n",
    "        \n",
    "        rewards = self.slot.return_rewards(self.player.get_probs())\n",
    "        self.player.pull_arm(rewards)\n",
    "        \n",
    "    def result(self):\n",
    "        return self.player.earned_rewards.sum()\n",
    "    \n",
    "class Player:\n",
    "    weightss = None\n",
    "    probss = None\n",
    "    cumulative_rewardss = None\n",
    "    choiced_arms = np.array([])\n",
    "    earned_rewards = np.array([])\n",
    "    expected_rewardss = None\n",
    "    \n",
    "    def __init__(self, arms):\n",
    "        initial_weights = np.ones(arms) / arms\n",
    "        self.weightss = initial_weights.reshape(1,-1)\n",
    "        self.probss = np.empty((0,arms),float)\n",
    "        self.cumulative_rewardss = np.zeros(arms).reshape(1,-1)\n",
    "        self.expected_rewardss = np.empty((0,arms), float)\n",
    "        \n",
    "    def get_weights(self):\n",
    "        return self.weightss[-1]\n",
    "\n",
    "    def get_probs(self):\n",
    "        return self.probss[-1]\n",
    "    \n",
    "    def cal_expected_rewards(self, probs, rewards):\n",
    "        expected_rewards = probs * rewards\n",
    "        return expected_rewards\n",
    "    \n",
    "    def cal_expected_reward(self):\n",
    "        reward = self.expected_rewardss.sum()\n",
    "        return reward\n",
    "\n",
    "    def cal_expected_reward_arms(self):\n",
    "        reward_arms = self.expected_rewardss.sum(axis=0)\n",
    "        return reward_arms\n",
    "\n",
    "class Slot:\n",
    "    \n",
    "    rewardss = None\n",
    "    \n",
    "    def __init__(self,arms):\n",
    "        self.rewardss = np.empty((0,arms), float)\n",
    "        \n",
    "class Random(Slot):\n",
    "    def return_rewards(self, probs):\n",
    "        rewards = np.zeros(len(probs))\n",
    "        idx = np.random.randint(0, len(probs))\n",
    "        rewards[idx] = 1\n",
    "        self.rewardss = np.append(self.rewardss, rewards.reshape(1,-1), axis=0)\n",
    "        \n",
    "        return rewards\n",
    "    \n",
    "class AdaptiveAdversary(Slot):\n",
    "    def return_rewards(self, probs):\n",
    "        # 最も確率が低いアームのindexを取得。複数ある場合はrandomに選ぶ。\n",
    "        min_index = np.random.choice(np.flatnonzero(probs == probs.min()))\n",
    "        rewards = np.zeros(len(probs))\n",
    "        rewards[min_index] = 1\n",
    "        self.rewardss = np.append(self.rewardss, rewards.reshape(1,-1), axis=0)\n",
    "        return rewards"
   ]
  },
  {
   "cell_type": "code",
   "execution_count": 68,
   "metadata": {},
   "outputs": [],
   "source": [
    "def create_player_hedge(eta):\n",
    "    class Hedge(Player):\n",
    "\n",
    "        eta = 1\n",
    "\n",
    "        def __init__(self, arms):\n",
    "            super().__init__(arms)\n",
    "            self.eta = eta\n",
    "\n",
    "        def update_probs(self):\n",
    "            weights = self.get_weights()\n",
    "            probs = weights / weights.sum()\n",
    "            self.probss = np.vstack((self.probss, probs))\n",
    "\n",
    "        def update_weights(self, rewards):\n",
    "            weights = self.get_weights()\n",
    "            new_weights = weights * np.exp(rewards * self.eta)\n",
    "            self.weightss = np.vstack((self.weightss, new_weights))\n",
    "\n",
    "        def pull_arm(self, rewards):\n",
    "            probs = self.get_probs()\n",
    "            choiced_arm = np.random.choice(len(probs), p=probs)\n",
    "            self.choiced_arms = np.append(self.choiced_arms, choiced_arm)\n",
    "            reward = rewards[choiced_arm]\n",
    "            self.earned_rewards = np.append(self.earned_rewards, reward)\n",
    "\n",
    "            self.update_weights(rewards)\n",
    "\n",
    "            expected_rewards = self.cal_expected_rewards(probs, rewards)\n",
    "            self.expected_rewardss = np.vstack((self.expected_rewardss, expected_rewards))\n",
    "\n",
    "    return Hedge"
   ]
  },
  {
   "cell_type": "code",
   "execution_count": 69,
   "metadata": {},
   "outputs": [],
   "source": [
    "def create_fixed_probs_class(probs):\n",
    "    class FixedProbs(Slot):\n",
    "        \n",
    "        probs = None\n",
    "        \n",
    "        def __init__(self, _):\n",
    "            self.probs = probs\n",
    "            self.rewardss = np.empty((0,len(self.probs)), float)\n",
    "            \n",
    "        def return_rewards(self, _):\n",
    "            idx = np.random.choice(len(self.probs), p=self.probs)\n",
    "            rewards = np.zeros(len(self.probs))\n",
    "            rewards[idx] = 1\n",
    "            self.rewardss = np.append(self.rewardss, rewards.reshape(1,-1), axis=0)\n",
    "\n",
    "            return rewards\n",
    "    \n",
    "    return FixedProbs"
   ]
  },
  {
   "cell_type": "code",
   "execution_count": 70,
   "metadata": {},
   "outputs": [],
   "source": [
    "# 1アームだけ報酬でやすい\n",
    "arms = 5 \n",
    "times = 1000\n",
    "count = 100\n",
    "\n",
    "eta = 0.7\n",
    "hedge_class = create_player_hedge(eta)\n",
    "\n",
    "probs = np.array([0.5,0.125,0.125,0.125,0.125])\n",
    "fixed_probs_class = create_fixed_probs_class(probs)\n",
    "\n",
    "games = Games(hedge_class, fixed_probs_class, arms, times, count)\n",
    "games.execute()"
   ]
  },
  {
   "cell_type": "code",
   "execution_count": 71,
   "metadata": {},
   "outputs": [
    {
     "data": {
      "text/plain": [
       "-1.1420398887521515"
      ]
     },
     "execution_count": 71,
     "metadata": {},
     "output_type": "execute_result"
    }
   ],
   "source": [
    "games.pseudo_regret()"
   ]
  },
  {
   "cell_type": "code",
   "execution_count": 72,
   "metadata": {},
   "outputs": [
    {
     "name": "stdout",
     "output_type": "stream",
     "text": [
      "497.2870429116531\n"
     ]
    }
   ],
   "source": [
    "# アームの期待報酬の平均が最も大きいものは50％の確率で報酬が出る\n",
    "# そのため500ぐらいになっておかしくない。（実際には収束するのに時間がかかるため500より少し少ないはず）\n",
    "print(games.max_arm_expected_rewards_mean())\n",
    "assert(450 < games.max_arm_expected_rewards_mean() < 525)"
   ]
  },
  {
   "cell_type": "code",
   "execution_count": 7,
   "metadata": {},
   "outputs": [
    {
     "ename": "AttributeError",
     "evalue": "'Games' object has no attribute 'game'",
     "output_type": "error",
     "traceback": [
      "\u001b[0;31m---------------------------------------------------------------------------\u001b[0m",
      "\u001b[0;31mAttributeError\u001b[0m                            Traceback (most recent call last)",
      "\u001b[0;32m<ipython-input-7-64aa2afcb634>\u001b[0m in \u001b[0;36m<module>\u001b[0;34m\u001b[0m\n\u001b[0;32m----> 1\u001b[0;31m \u001b[0mgames\u001b[0m\u001b[0;34m.\u001b[0m\u001b[0mgame\u001b[0m\u001b[0;34m\u001b[0m\u001b[0m\n\u001b[0m",
      "\u001b[0;31mAttributeError\u001b[0m: 'Games' object has no attribute 'game'"
     ]
    }
   ],
   "source": [
    "games."
   ]
  },
  {
   "cell_type": "code",
   "execution_count": 73,
   "metadata": {},
   "outputs": [
    {
     "data": {
      "text/plain": [
       "498.42908280040524"
      ]
     },
     "execution_count": 73,
     "metadata": {},
     "output_type": "execute_result"
    }
   ],
   "source": [
    "games.expected_rewards_mean()"
   ]
  },
  {
   "cell_type": "code",
   "execution_count": null,
   "metadata": {},
   "outputs": [],
   "source": []
  },
  {
   "cell_type": "code",
   "execution_count": 74,
   "metadata": {},
   "outputs": [],
   "source": [
    "# 1アームだけ報酬でやすい\n",
    "arms = 5 \n",
    "times = 1000\n",
    "count = 100\n",
    "\n",
    "eta = 0.7\n",
    "hedge_class = create_player_hedge(eta)\n",
    "\n",
    "games = Games(hedge_class, AdaptiveAdversary, arms, times, count)\n",
    "games.execute()"
   ]
  },
  {
   "cell_type": "code",
   "execution_count": 75,
   "metadata": {},
   "outputs": [
    {
     "data": {
      "text/plain": [
       "-118.88136888228937"
      ]
     },
     "execution_count": 75,
     "metadata": {},
     "output_type": "execute_result"
    }
   ],
   "source": [
    "games.pseudo_regret()"
   ]
  },
  {
   "cell_type": "code",
   "execution_count": 77,
   "metadata": {},
   "outputs": [
    {
     "data": {
      "text/plain": [
       "29.794284317951075"
      ]
     },
     "execution_count": 77,
     "metadata": {},
     "output_type": "execute_result"
    }
   ],
   "source": [
    "games.max_arm_expected_rewards_mean()"
   ]
  },
  {
   "cell_type": "code",
   "execution_count": 76,
   "metadata": {},
   "outputs": [
    {
     "data": {
      "text/plain": [
       "148.67565320024045"
      ]
     },
     "execution_count": 76,
     "metadata": {},
     "output_type": "execute_result"
    }
   ],
   "source": [
    "games.expected_rewards_mean()"
   ]
  },
  {
   "cell_type": "code",
   "execution_count": 78,
   "metadata": {},
   "outputs": [
    {
     "data": {
      "text/plain": [
       "array([[28.68787086, 30.95901602, 29.54673999, 30.46353983, 29.0184865 ],\n",
       "       [29.78209842, 29.57543042, 29.98015324, 29.31000204, 30.02796908],\n",
       "       [29.34478164, 29.6940059 , 29.74621971, 30.10334469, 29.78730127],\n",
       "       [29.73914071, 29.37017718, 30.02794275, 29.15370874, 30.38468382],\n",
       "       [29.88237022, 30.25069081, 29.35627423, 29.6278325 , 29.55848545],\n",
       "       [30.14587529, 29.73492551, 30.34965989, 29.62648053, 28.81871198],\n",
       "       [29.3010022 , 29.55939629, 29.79619977, 30.3872583 , 29.63179664],\n",
       "       [30.15121441, 29.89618623, 28.83323826, 29.7059828 , 30.08903149],\n",
       "       [29.69638538, 30.2354196 , 29.0588988 , 29.69069482, 29.9942546 ],\n",
       "       [30.38575385, 29.34439648, 29.60747113, 29.3262021 , 30.01182963],\n",
       "       [29.22759734, 29.81444407, 30.74486427, 29.31751609, 29.57123143],\n",
       "       [30.30083007, 29.79092741, 29.28887832, 29.46946806, 29.82554933],\n",
       "       [29.45140256, 29.59672006, 30.19682681, 30.12849193, 29.30221183],\n",
       "       [29.95047516, 29.21217308, 29.86379465, 29.96961742, 29.67959288],\n",
       "       [30.07760443, 28.75667479, 29.73360319, 30.26143175, 29.84633904],\n",
       "       [30.26880896, 30.09685995, 29.0142909 , 29.53419914, 29.76149424],\n",
       "       [29.87949354, 29.49629579, 30.06674406, 29.47569501, 29.75742479],\n",
       "       [29.47495625, 29.96959782, 29.75761031, 30.08467669, 29.38881213],\n",
       "       [30.13296339, 29.96846045, 29.08435496, 29.05215505, 30.43771935],\n",
       "       [29.02463448, 30.51151486, 28.9347393 , 29.82472088, 30.38004369],\n",
       "       [29.95035915, 30.15945313, 29.25594637, 29.44192448, 29.86797007],\n",
       "       [29.85963154, 29.58720495, 28.83091484, 30.58895613, 29.80894575],\n",
       "       [29.35667283, 30.21450043, 30.40439552, 29.84867534, 28.85140907],\n",
       "       [30.00248659, 30.42527491, 29.65761712, 29.16054283, 29.42973174],\n",
       "       [29.29072416, 30.26047043, 29.09152704, 30.28706671, 29.74586486],\n",
       "       [29.06388705, 29.05817688, 30.35538018, 29.29150669, 30.9067024 ],\n",
       "       [29.27048098, 30.07524852, 29.47457232, 29.97412468, 29.88122669],\n",
       "       [29.56760868, 30.1691801 , 29.55131676, 29.66113   , 29.72641766],\n",
       "       [29.55681168, 28.46636491, 30.51249579, 29.74084753, 30.39913329],\n",
       "       [30.00304656, 29.76342029, 29.68213156, 29.29418771, 29.93286708],\n",
       "       [30.4143815 , 29.5585415 , 29.89615991, 29.29955989, 29.50701041],\n",
       "       [29.96570044, 29.56776787, 28.68957095, 30.05161188, 30.40100206],\n",
       "       [29.65293381, 30.20576112, 29.36983919, 30.20091587, 29.24620321],\n",
       "       [29.50043873, 29.6995636 , 29.55798826, 29.89600744, 30.02165518],\n",
       "       [30.39243207, 29.26655785, 29.82669958, 29.01008858, 30.17987511],\n",
       "       [29.87681925, 29.84447974, 29.26451976, 30.42064151, 29.26919294],\n",
       "       [29.74915974, 30.15124747, 29.15416615, 30.19319394, 29.4278859 ],\n",
       "       [29.82096982, 30.04659455, 30.10631778, 29.62342506, 29.078346  ],\n",
       "       [29.50445553, 29.65468996, 29.44787623, 30.02740911, 30.04122238],\n",
       "       [29.3408371 , 29.71064253, 30.205218  , 30.06759885, 29.35135672],\n",
       "       [29.74723369, 30.07137747, 29.96846045, 29.16940488, 29.71917672],\n",
       "       [30.90178488, 29.98086843, 29.72287512, 29.10787161, 28.96225315],\n",
       "       [30.4680667 , 29.74569279, 29.00975059, 29.15357587, 30.29856726],\n",
       "       [29.61302883, 29.75543935, 29.25139933, 29.90685492, 30.14893077],\n",
       "       [28.30411986, 29.77606986, 30.33224745, 30.5639641 , 29.69925193],\n",
       "       [29.51452721, 30.19942762, 29.40239669, 29.54022097, 30.0190807 ],\n",
       "       [29.37283188, 30.39073198, 28.95825595, 29.84266023, 30.11117316],\n",
       "       [29.75188669, 29.09780665, 29.58716242, 30.09905724, 30.1397402 ],\n",
       "       [29.62441943, 30.59455975, 30.08350684, 29.65174776, 28.72141941],\n",
       "       [29.06801039, 29.82956613, 30.60929117, 29.51106641, 29.65771911],\n",
       "       [30.02561932, 29.3612854 , 29.31296565, 30.18208527, 29.79369755],\n",
       "       [29.87051207, 30.15448174, 30.27380669, 29.38216819, 28.99468451],\n",
       "       [29.90476295, 29.52591449, 29.78055752, 29.17449171, 30.28992653],\n",
       "       [29.81699895, 30.02377348, 29.46391036, 29.71786727, 29.65310314],\n",
       "       [29.85318933, 29.75860136, 29.33231304, 29.38657564, 30.34497383],\n",
       "       [29.72067444, 30.28443162, 30.08939581, 29.48120678, 29.09994456],\n",
       "       [29.29737605, 29.69089994, 29.94875547, 29.90002423, 29.83859751],\n",
       "       [29.86982936, 29.26331685, 29.28122988, 29.77990446, 30.48137265],\n",
       "       [28.30158458, 29.76161366, 30.0712446 , 30.71097772, 29.83023264],\n",
       "       [29.59419823, 29.9486226 , 30.26999227, 29.22360687, 29.63923323],\n",
       "       [29.7490532 , 29.28121028, 29.60824571, 30.11132563, 29.92581839],\n",
       "       [29.59241793, 30.02682895, 29.53649624, 29.10164465, 30.41826543],\n",
       "       [29.55782906, 30.08334765, 30.5198534 , 29.23331423, 29.28130886],\n",
       "       [29.9563378 , 29.41280637, 28.91481451, 29.76715175, 30.62454277],\n",
       "       [30.086795  , 29.93630647, 29.95034229, 29.55295408, 29.14925536],\n",
       "       [30.39097356, 29.18697991, 29.90103821, 29.29215635, 29.90450517],\n",
       "       [29.25732135, 29.33275757, 29.38504147, 30.45349448, 30.24703833],\n",
       "       [30.73084313, 29.30804019, 28.90737792, 29.58990282, 30.13948914],\n",
       "       [30.27767774, 30.08481629, 30.0505048 , 28.99711115, 29.26554322],\n",
       "       [29.47548989, 29.412266  , 29.66162719, 30.74678418, 29.37948594],\n",
       "       [29.18809248, 29.84782728, 29.92208693, 30.37618608, 29.34146043],\n",
       "       [29.98369918, 29.1930544 , 29.27121085, 30.3922796 , 29.83540917],\n",
       "       [29.68384113, 29.94142759, 30.15995032, 29.34501982, 29.54541435],\n",
       "       [29.986559  , 29.81745361, 29.95585406, 29.40672516, 29.50906137],\n",
       "       [29.01512276, 29.5818429 , 30.73035267, 30.01539177, 29.3329431 ],\n",
       "       [29.28444455, 30.32687528, 29.97415101, 29.33695989, 29.75322247],\n",
       "       [29.30730814, 28.8527314 , 29.71515992, 29.95611307, 30.84434067],\n",
       "       [29.56357228, 29.56919334, 29.40434907, 30.04173917, 30.09679934],\n",
       "       [29.84396968, 29.56207058, 29.40610855, 29.36125908, 30.50224531],\n",
       "       [29.80673559, 29.49242474, 29.42954622, 30.15912187, 29.78782478],\n",
       "       [29.12998023, 30.0604476 , 29.0224871 , 30.27908577, 30.1836525 ],\n",
       "       [29.2762153 , 30.32975195, 29.90420695, 29.48990291, 29.67557608],\n",
       "       [29.91175623, 29.96121951, 29.15384161, 29.70960222, 29.93923363],\n",
       "       [29.20597918, 29.64307123, 30.2627608 , 29.47449211, 30.08934988],\n",
       "       [29.70373286, 30.04311414, 29.45094913, 29.94831093, 29.52954613],\n",
       "       [29.76965738, 29.56655824, 29.96892183, 29.82856835, 29.5419474 ],\n",
       "       [29.82707403, 29.15144592, 30.46773543, 29.38849374, 29.84090408],\n",
       "       [29.79984552, 30.06356245, 29.71871258, 29.40889611, 29.68463653],\n",
       "       [30.19300842, 28.95079976, 30.76312202, 28.99431346, 29.77440954],\n",
       "       [29.73490866, 30.10231111, 29.70744472, 29.34619639, 29.78479232],\n",
       "       [29.55751067, 29.9276737 , 30.04320781, 29.26823162, 29.87902941],\n",
       "       [29.55512843, 30.37550337, 29.32589716, 29.8731931 , 29.54593114],\n",
       "       [28.97519753, 29.6338084 , 29.2894686 , 30.15896267, 30.618216  ],\n",
       "       [29.65004766, 29.37377577, 29.95652332, 30.03178075, 29.66352569],\n",
       "       [29.82446982, 29.19523824, 29.63471584, 30.33204233, 29.68918697],\n",
       "       [29.64874494, 29.79647839, 29.94898019, 29.24857256, 30.03287712],\n",
       "       [30.33220152, 30.01844724, 28.79688869, 29.26963075, 30.25848499],\n",
       "       [29.49932493, 29.8664359 , 30.17793561, 28.82374275, 30.30821401],\n",
       "       [29.58770554, 29.65694786, 29.18968726, 31.03027285, 29.21103969],\n",
       "       [29.92291538, 30.11004591, 29.3770538 , 29.76179918, 29.50383892]])"
      ]
     },
     "execution_count": 78,
     "metadata": {},
     "output_type": "execute_result"
    }
   ],
   "source": [
    "games.expected_rewards_arms"
   ]
  },
  {
   "cell_type": "code",
   "execution_count": null,
   "metadata": {},
   "outputs": [],
   "source": []
  },
  {
   "cell_type": "code",
   "execution_count": null,
   "metadata": {},
   "outputs": [],
   "source": [
    "games.expected_rewards_arms"
   ]
  },
  {
   "cell_type": "code",
   "execution_count": null,
   "metadata": {},
   "outputs": [],
   "source": [
    "# 1アームだけ報酬でやすい\n",
    "arms = 5 \n",
    "times = 1000\n",
    "eta = 0.7\n",
    "player = Hedge(arms,eta)\n",
    "\n",
    "probs = np.array([0.5,0.125,0.125,0.125,0.125])\n",
    "slot = FixedProbs(probs)\n",
    "\n",
    "game = Game(player, slot, arms, times)\n",
    "game.play()"
   ]
  },
  {
   "cell_type": "code",
   "execution_count": null,
   "metadata": {},
   "outputs": [],
   "source": [
    "game.result()"
   ]
  },
  {
   "cell_type": "code",
   "execution_count": null,
   "metadata": {},
   "outputs": [],
   "source": [
    "game.player."
   ]
  },
  {
   "cell_type": "code",
   "execution_count": null,
   "metadata": {},
   "outputs": [],
   "source": [
    "game.player.expected_rewardss"
   ]
  },
  {
   "cell_type": "code",
   "execution_count": null,
   "metadata": {},
   "outputs": [],
   "source": [
    "# etaを微小な値にすると重みが更新されない\n",
    "arms = 5\n",
    "times = 1000\n",
    "eta = 0.000001\n",
    "player = Hedge(arms,eta)\n",
    "\n",
    "probs = np.array([0.5,0.125,0.125,0.125,0.125])\n",
    "slot = FixedProbs(probs)\n",
    "\n",
    "game = Game(player, slot, arms, times)\n",
    "game.play()"
   ]
  },
  {
   "cell_type": "code",
   "execution_count": null,
   "metadata": {},
   "outputs": [],
   "source": [
    "game.result()"
   ]
  },
  {
   "cell_type": "code",
   "execution_count": null,
   "metadata": {},
   "outputs": [],
   "source": [
    "game.player.weightss"
   ]
  },
  {
   "cell_type": "code",
   "execution_count": null,
   "metadata": {},
   "outputs": [],
   "source": [
    "# 敵対的\n",
    "arms = 5\n",
    "times = 1000\n",
    "eta = 0.7\n",
    "player = Hedge(arms, eta)\n",
    "\n",
    "slot = AdaptiveAdversary(arms)\n",
    "game = Game(player, slot, arms, times)"
   ]
  },
  {
   "cell_type": "code",
   "execution_count": null,
   "metadata": {},
   "outputs": [],
   "source": [
    "game.play()"
   ]
  },
  {
   "cell_type": "code",
   "execution_count": null,
   "metadata": {},
   "outputs": [],
   "source": [
    "game.result()"
   ]
  },
  {
   "cell_type": "code",
   "execution_count": null,
   "metadata": {},
   "outputs": [],
   "source": [
    "game.slot.rewardss.sum(axis=0)"
   ]
  },
  {
   "cell_type": "code",
   "execution_count": null,
   "metadata": {},
   "outputs": [],
   "source": [
    "# プレイヤーがアームを引く確率は累積報酬のみで決まる。\n",
    "# プレイヤーが引く確率が低いアーム（＝累積報酬が最も少ないアーム）に報酬を設定することになるため\n",
    "# 敵対者は各アームの累積報酬は等しくなるように設定する"
   ]
  },
  {
   "cell_type": "code",
   "execution_count": null,
   "metadata": {},
   "outputs": [],
   "source": []
  }
 ],
 "metadata": {
  "kernelspec": {
   "display_name": "Python 3",
   "language": "python",
   "name": "python3"
  },
  "language_info": {
   "codemirror_mode": {
    "name": "ipython",
    "version": 3
   },
   "file_extension": ".py",
   "mimetype": "text/x-python",
   "name": "python",
   "nbconvert_exporter": "python",
   "pygments_lexer": "ipython3",
   "version": "3.7.0"
  }
 },
 "nbformat": 4,
 "nbformat_minor": 2
}
